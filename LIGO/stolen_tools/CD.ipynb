{
 "cells": [
  {
   "cell_type": "markdown",
   "metadata": {},
   "source": []
  },
  {
   "cell_type": "markdown",
   "metadata": {},
   "source": [
    "This is an important mode matching calculation as a designated mode matcher like yourself. \n",
    "\n",
    "Why? well..... in terms of the most basic intuition, we need to think about what happens when things are not well mode matched.\n",
    "\n",
    "Well, in terms of a basic Michelson interferometer (no FPs and no other fancy shiz).. just you, a laser (with a gaussian beam output), a BS, and two concave end mirrors (very important to specify \"curved\") equally distanced from the BS.\n",
    "\n",
    "And say that you are operating your Michelson on a Dark fringe... the question I leave you with now is how can you destroy that dark fringe by modifying the features of the end mirrors?\n",
    "\n",
    "If I haven't already spoiled the answer for you, you can destroy the Dark fringe in two ways: \n",
    "- By slightly misaligning the end mirrors\n",
    "- By changing the ROC of your mirrors\n",
    "\n",
    "You can calculate how this spoils your dark fringe directly by performing a power overlap integral at the beamsplitter. \n",
    "\n",
    "$$\\int_{}^{} \\frac{}{} $$\n",
    "\n",
    "But there is also a well agreed value that is the following: \n",
    "\n",
    "$$\n",
    "\\mathrm{CD} = \\frac{I_{max}-I_{min}}{I_{max}-I_{min}}\n",
    "$$\n",
    "\n",
    "You can get one o\n",
    "\n"
   ]
  },
  {
   "cell_type": "code",
   "execution_count": null,
   "metadata": {},
   "outputs": [],
   "source": []
  }
 ],
 "metadata": {
  "kernelspec": {
   "display_name": "Python 3",
   "language": "python",
   "name": "python3"
  },
  "language_info": {
   "codemirror_mode": {
    "name": "ipython",
    "version": 3
   },
   "file_extension": ".py",
   "mimetype": "text/x-python",
   "name": "python",
   "nbconvert_exporter": "python",
   "pygments_lexer": "ipython3",
   "version": "3.6.7"
  }
 },
 "nbformat": 4,
 "nbformat_minor": 2
}
