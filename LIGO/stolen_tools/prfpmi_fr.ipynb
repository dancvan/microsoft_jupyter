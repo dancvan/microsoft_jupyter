{
 "cells": [
  {
   "cell_type": "markdown",
   "metadata": {},
   "source": [
    "# PRFPMI frequency response to gravitational wave perturbation*"
   ]
  },
  {
   "cell_type": "code",
   "execution_count": 2,
   "metadata": {},
   "outputs": [],
   "source": [
    "import numpy as np\n",
    "import matplotlib.pyplot as plt\n",
    "import scipy.signal as sig"
   ]
  },
  {
   "cell_type": "markdown",
   "metadata": {},
   "source": [
    "The main question of this section as with all the section in this series: How does this configuration of the interferometer help improve our\n",
    "measurement of the phase differential that results from a gravitational wave passing through the interferometer?\n",
    "\n",
    "Now we have our analytical expression for the differential phase of the FPMI, how do we work out this analytical expression for the PRFPMI... \n",
    "\n",
    "**Sure** with a name like power recycling you would assume that you would get a broadband gain, but the challenge is to prove this. \n",
    "\n",
    "This is what we will do. "
   ]
  },
  {
   "cell_type": "code",
   "execution_count": null,
   "metadata": {},
   "outputs": [],
   "source": []
  }
 ],
 "metadata": {
  "kernelspec": {
   "display_name": "Python 3",
   "language": "python",
   "name": "python3"
  },
  "language_info": {
   "codemirror_mode": {
    "name": "ipython",
    "version": 3
   },
   "file_extension": ".py",
   "mimetype": "text/x-python",
   "name": "python",
   "nbconvert_exporter": "python",
   "pygments_lexer": "ipython3",
   "version": "3.6.7"
  }
 },
 "nbformat": 4,
 "nbformat_minor": 2
}
